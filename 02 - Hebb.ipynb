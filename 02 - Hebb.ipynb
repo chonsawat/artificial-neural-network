{
 "cells": [
  {
   "cell_type": "code",
   "execution_count": 3,
   "metadata": {
    "collapsed": true
   },
   "outputs": [],
   "source": [
    "class Problem_AND:\n",
    "    def __init__(self):\n",
    "        self.data = [\n",
    "            [1, 1], [1,-1], [-1,1], [-1,-1]\n",
    "        ]\n",
    "        self.target =[1, -1, -1, -1]\n",
    "\n",
    "data = Problem_AND()"
   ]
  },
  {
   "cell_type": "code",
   "execution_count": 4,
   "outputs": [
    {
     "data": {
      "text/plain": "[[1, 1], [1, -1], [-1, 1], [-1, -1]]"
     },
     "execution_count": 4,
     "metadata": {},
     "output_type": "execute_result"
    }
   ],
   "source": [
    "data.data"
   ],
   "metadata": {
    "collapsed": false,
    "pycharm": {
     "name": "#%%\n"
    }
   }
  },
  {
   "cell_type": "code",
   "execution_count": 37,
   "outputs": [],
   "source": [
    "class HebbLearning:\n",
    "    def __init__(self):\n",
    "        self.bias = 0\n",
    "        self.w1 = 0 # data weight 1\n",
    "        self.w2 = 0 # data weight 2\n",
    "\n",
    "    def train(self, data, target):\n",
    "        for idx, (x1, x2) in enumerate(data):\n",
    "            self.bias = self.bias + (1*target[idx]) # Bias\n",
    "            self.w1 = self.w1 + (x1*target[idx]) # Update weight of x1\n",
    "            self.w2 = self.w2 + (x2*target[idx]) # Update weight of x2\n",
    "\n",
    "    def predict(self, data):\n",
    "        threshold = 0\n",
    "        predictions = []\n",
    "        for (x1, x2) in data:\n",
    "            u = self.bias + self.w1*x1 + self.w2*x2\n",
    "            predictions.append(1 if u > 0 else -1)\n",
    "        return predictions\n",
    "\n",
    "\n",
    "    def get_weights(self):\n",
    "        return [self.bias, self.w1, self.w2]"
   ],
   "metadata": {
    "collapsed": false,
    "pycharm": {
     "name": "#%%\n"
    }
   }
  },
  {
   "cell_type": "code",
   "execution_count": 38,
   "outputs": [
    {
     "data": {
      "text/plain": "[-2, 2, 2]"
     },
     "execution_count": 38,
     "metadata": {},
     "output_type": "execute_result"
    }
   ],
   "source": [
    "model = HebbLearning()\n",
    "model.train(data.data, data.target)\n",
    "model.get_weights()"
   ],
   "metadata": {
    "collapsed": false,
    "pycharm": {
     "name": "#%%\n"
    }
   }
  },
  {
   "cell_type": "code",
   "execution_count": 40,
   "outputs": [
    {
     "data": {
      "text/plain": "[1, -1, -1, -1]"
     },
     "execution_count": 40,
     "metadata": {},
     "output_type": "execute_result"
    }
   ],
   "source": [
    "preds = model.predict(data.data)\n",
    "preds"
   ],
   "metadata": {
    "collapsed": false,
    "pycharm": {
     "name": "#%%\n"
    }
   }
  },
  {
   "cell_type": "code",
   "execution_count": 45,
   "outputs": [
    {
     "name": "stdout",
     "output_type": "stream",
     "text": [
      "Actual:  [1, -1, -1, -1]\n",
      "Predict: [1, -1, -1, -1]\n"
     ]
    }
   ],
   "source": [
    "print(\"Actual: \", data.target)\n",
    "print(\"Predict:\", preds)"
   ],
   "metadata": {
    "collapsed": false,
    "pycharm": {
     "name": "#%%\n"
    }
   }
  },
  {
   "cell_type": "code",
   "execution_count": null,
   "outputs": [],
   "source": [],
   "metadata": {
    "collapsed": false,
    "pycharm": {
     "name": "#%%\n"
    }
   }
  }
 ],
 "metadata": {
  "kernelspec": {
   "display_name": "Python 3",
   "language": "python",
   "name": "python3"
  },
  "language_info": {
   "codemirror_mode": {
    "name": "ipython",
    "version": 2
   },
   "file_extension": ".py",
   "mimetype": "text/x-python",
   "name": "python",
   "nbconvert_exporter": "python",
   "pygments_lexer": "ipython2",
   "version": "2.7.6"
  }
 },
 "nbformat": 4,
 "nbformat_minor": 0
}