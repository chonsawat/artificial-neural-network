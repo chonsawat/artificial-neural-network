{
 "cells": [
  {
   "cell_type": "code",
   "execution_count": 27,
   "outputs": [],
   "source": [
    "import numpy as np\n",
    "\n",
    "# Import '01 - McCulloch-Pitts.py'\n",
    "_temp = __import__(\"01 - McCulloch-Pitts\", fromlist=['get_u', 'predict'])\n",
    "get_u = _temp.get_u\n",
    "predict = _temp.predict"
   ],
   "metadata": {
    "collapsed": false,
    "pycharm": {
     "name": "#%%\n"
    }
   }
  },
  {
   "cell_type": "code",
   "execution_count": 28,
   "metadata": {
    "collapsed": true
   },
   "outputs": [
    {
     "data": {
      "text/plain": "[([1, 1], 1), ([1, 0], 1), ([0, 1], 1), ([0, 0], 0)]"
     },
     "execution_count": 28,
     "metadata": {},
     "output_type": "execute_result"
    }
   ],
   "source": [
    "data = [\n",
    "    [1, 1],\n",
    "    [1, 0],\n",
    "    [0, 1],\n",
    "    [0, 0]\n",
    "]\n",
    "\n",
    "target = [1, 1, 1, 0]\n",
    "\n",
    "list(zip(data, target))"
   ]
  },
  {
   "cell_type": "code",
   "execution_count": 29,
   "outputs": [
    {
     "name": "stdout",
     "output_type": "stream",
     "text": [
      "Actual : Prediction\n",
      "1 : 1\n",
      "1 : 1\n",
      "1 : 1\n",
      "0 : 0\n"
     ]
    }
   ],
   "source": [
    "print(\"Actual : Prediction\")\n",
    "for idx, (x1, x2) in enumerate(data):\n",
    "    u = get_u(x1, x2)\n",
    "    pred = predict(u)\n",
    "    print(f\"{target[idx]} : {pred}\")"
   ],
   "metadata": {
    "collapsed": false,
    "pycharm": {
     "name": "#%%\n"
    }
   }
  },
  {
   "cell_type": "code",
   "execution_count": 30,
   "outputs": [
    {
     "name": "stdout",
     "output_type": "stream",
     "text": [
      "Predict: 1\n",
      "Predict: 1\n",
      "Predict: 1\n",
      "Predict: 0\n"
     ]
    }
   ],
   "source": [
    "!python \"01 - McCulloch-Pitts.py\" -x1 1 -x2 1 -v\n",
    "!python \"01 - McCulloch-Pitts.py\" -x1 1 -x2 0 -v\n",
    "!python \"01 - McCulloch-Pitts.py\" -x1 0 -x2 1 -v\n",
    "!python \"01 - McCulloch-Pitts.py\" -x1 0 -x2 0 -v"
   ],
   "metadata": {
    "collapsed": false,
    "pycharm": {
     "name": "#%%\n"
    }
   }
  },
  {
   "cell_type": "code",
   "execution_count": 46,
   "outputs": [
    {
     "name": "stdout",
     "output_type": "stream",
     "text": [
      "Predict: 1\n",
      "Predict: 1\n",
      "Predict: 0\n",
      "Predict: 0\n"
     ]
    }
   ],
   "source": [
    "!python \"01 - McCulloch-Pitts.py\" -x1 1 -x2 1 -t 1 -v\n",
    "!python \"01 - McCulloch-Pitts.py\" -x1 1 -x2 0 -t 1 -v\n",
    "!python \"01 - McCulloch-Pitts.py\" -x1 0 -x2 1 -t 1 -v\n",
    "!python \"01 - McCulloch-Pitts.py\" -x1 0 -x2 0 -t 1 -v"
   ],
   "metadata": {
    "collapsed": false,
    "pycharm": {
     "name": "#%%\n"
    }
   }
  },
  {
   "cell_type": "code",
   "execution_count": null,
   "outputs": [],
   "source": [],
   "metadata": {
    "collapsed": false,
    "pycharm": {
     "name": "#%%\n"
    }
   }
  }
 ],
 "metadata": {
  "kernelspec": {
   "display_name": "Python 3",
   "language": "python",
   "name": "python3"
  },
  "language_info": {
   "codemirror_mode": {
    "name": "ipython",
    "version": 2
   },
   "file_extension": ".py",
   "mimetype": "text/x-python",
   "name": "python",
   "nbconvert_exporter": "python",
   "pygments_lexer": "ipython2",
   "version": "2.7.6"
  }
 },
 "nbformat": 4,
 "nbformat_minor": 0
}