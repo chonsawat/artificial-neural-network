{
 "cells": [
  {
   "cell_type": "code",
   "execution_count": 2,
   "outputs": [],
   "source": [
    "import numpy as np"
   ],
   "metadata": {
    "collapsed": false,
    "pycharm": {
     "name": "#%%\n"
    }
   }
  },
  {
   "cell_type": "code",
   "execution_count": 3,
   "metadata": {
    "collapsed": true
   },
   "outputs": [],
   "source": [
    "data = np.array([\n",
    "    [1, 1],\n",
    "    [1, -1],\n",
    "    [-1, 1],\n",
    "    [-1, -1]\n",
    "])\n",
    "\n",
    "target = np.array([1, -1, -1, -1])"
   ]
  },
  {
   "cell_type": "code",
   "execution_count": 59,
   "outputs": [],
   "source": [
    "class Perceptron:\n",
    "    def __init__(self):\n",
    "        self.weights = np.zeros(shape=(3,)) # bias, weight1, weight2\n",
    "        self.learning_rate = 1\n",
    "\n",
    "    def threshold(self, u):\n",
    "        if u>0: y = 1\n",
    "        else:   y = -1\n",
    "        return y\n",
    "\n",
    "    def train(self, data, target):\n",
    "        for idx, element in enumerate(data):\n",
    "            X = np.insert(element, obj=0, values=1) # Add bias in front -> [bias, x1, x2]\n",
    "\n",
    "            u = self.weights @ X # dot product\n",
    "            y_pred = self.threshold(u)\n",
    "\n",
    "            for i in range(len(X)): # Calculate weights\n",
    "                self.weights[i] = self.weights[i] + self.learning_rate*(target[idx]-y_pred)*X[i]\n",
    "\n",
    "    def predict(self, data):\n",
    "        predictions = []\n",
    "        for X in data:\n",
    "            u = self.weights @ np.insert(X, 0, 1)\n",
    "            y_pred = self.threshold(u)\n",
    "            predictions.append(y_pred)\n",
    "        return predictions"
   ],
   "metadata": {
    "collapsed": false,
    "pycharm": {
     "name": "#%%\n"
    }
   }
  },
  {
   "cell_type": "code",
   "execution_count": 60,
   "outputs": [],
   "source": [
    "model = Perceptron()\n",
    "model.train(data, target)"
   ],
   "metadata": {
    "collapsed": false,
    "pycharm": {
     "name": "#%%\n"
    }
   }
  },
  {
   "cell_type": "code",
   "execution_count": 67,
   "outputs": [
    {
     "data": {
      "text/plain": "[-2.0, 2.0, 2.0]"
     },
     "execution_count": 67,
     "metadata": {},
     "output_type": "execute_result"
    }
   ],
   "source": [
    "model.weights.tolist()"
   ],
   "metadata": {
    "collapsed": false,
    "pycharm": {
     "name": "#%%\n"
    }
   }
  },
  {
   "cell_type": "code",
   "execution_count": 58,
   "outputs": [
    {
     "data": {
      "text/plain": "[1, -1, -1, -1]"
     },
     "execution_count": 58,
     "metadata": {},
     "output_type": "execute_result"
    }
   ],
   "source": [
    "model.predict(data)"
   ],
   "metadata": {
    "collapsed": false,
    "pycharm": {
     "name": "#%%\n"
    }
   }
  },
  {
   "cell_type": "code",
   "execution_count": null,
   "outputs": [],
   "source": [],
   "metadata": {
    "collapsed": false,
    "pycharm": {
     "name": "#%%\n"
    }
   }
  }
 ],
 "metadata": {
  "kernelspec": {
   "display_name": "Python 3",
   "language": "python",
   "name": "python3"
  },
  "language_info": {
   "codemirror_mode": {
    "name": "ipython",
    "version": 2
   },
   "file_extension": ".py",
   "mimetype": "text/x-python",
   "name": "python",
   "nbconvert_exporter": "python",
   "pygments_lexer": "ipython2",
   "version": "2.7.6"
  }
 },
 "nbformat": 4,
 "nbformat_minor": 0
}